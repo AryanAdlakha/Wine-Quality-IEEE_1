{
  "nbformat": 4,
  "nbformat_minor": 0,
  "metadata": {
    "colab": {
      "provenance": []
    },
    "kernelspec": {
      "name": "python3",
      "display_name": "Python 3"
    },
    "language_info": {
      "name": "python"
    }
  },
  "cells": [
    {
      "cell_type": "code",
      "source": [
        "#importing the required libraries/dependencies\n",
        "import pandas as pd\n",
        "import numpy as np\n"
      ],
      "metadata": {
        "id": "Sb_x6VsuuOJM"
      },
      "execution_count": null,
      "outputs": []
    },
    {
      "cell_type": "code",
      "source": [
        "#loading the downloaded csv file from Kaggle\n",
        "wine_dataset = pd.read_csv('/content/winequality-red.csv')"
      ],
      "metadata": {
        "id": "C2NB-tS-8WWv"
      },
      "execution_count": null,
      "outputs": []
    },
    {
      "cell_type": "code",
      "source": [
        "#converting the wine_dataset into NumPy array\n",
        "data = wine_dataset.values"
      ],
      "metadata": {
        "id": "pEE-A1Uf9NcQ"
      },
      "execution_count": null,
      "outputs": []
    },
    {
      "cell_type": "code",
      "source": [
        "#knowing the shape of the wine dataset\n",
        "shape = data.shape\n",
        "print(\"Shape: \",shape)"
      ],
      "metadata": {
        "id": "5nsGC6X48u9z"
      },
      "execution_count": null,
      "outputs": []
    },
    {
      "cell_type": "code",
      "source": [
        "#calculating the median of all the 12 columns of the data\n",
        "medians = np.median(data, axis=0)\n",
        "print(\"Medians: \",medians)"
      ],
      "metadata": {
        "id": "KFBe9yyp9Bur"
      },
      "execution_count": null,
      "outputs": []
    },
    {
      "cell_type": "code",
      "source": [
        "#calculating the mean of each colums\n",
        "mean = np.mean(data, axis=0)\n",
        "print(\"Mean is :\",mean)"
      ],
      "metadata": {
        "id": "2KT5sjdF-7AC"
      },
      "execution_count": null,
      "outputs": []
    },
    {
      "cell_type": "code",
      "source": [
        "#calculating the Standard Deviation of each column\n",
        "standard_dvn = np.std(data ,axis=0)\n",
        "print(\"Standard Deviation is :\",standard_dvn)"
      ],
      "metadata": {
        "id": "ZMaMEcvd_aAC"
      },
      "execution_count": null,
      "outputs": []
    },
    {
      "cell_type": "code",
      "source": [
        "#calculating the minimum of each columns\n",
        "minimum = np.min(data, axis=0)\n",
        "print(\"The minimum value of each column are: \", minimum)"
      ],
      "metadata": {
        "id": "D1tGfoQM_vd5"
      },
      "execution_count": null,
      "outputs": []
    },
    {
      "cell_type": "code",
      "source": [
        "#calculating the maximum of each columns\n",
        "maximum = np.max(data,axis=0)\n",
        "print(\"The maximum value of each column is :\", maximum)"
      ],
      "metadata": {
        "id": "g3eQuZBsAZ5c"
      },
      "execution_count": null,
      "outputs": []
    },
    {
      "cell_type": "code",
      "source": [
        "#calculate the range of each column\n",
        "ranges = np.ptp(data, axis=0)\n",
        "print(\"Ranges of all the columns are: \", ranges)"
      ],
      "metadata": {
        "id": "wa7Pk2YVBWO9"
      },
      "execution_count": null,
      "outputs": []
    },
    {
      "cell_type": "code",
      "source": [
        "#Reshape the data into a 3D array\n",
        "reshaped = data.reshape(1599, 12, 1)\n",
        "print(\"Reshaped Data: \\n\", reshaped)"
      ],
      "metadata": {
        "id": "h0NNCX61BjdJ"
      },
      "execution_count": null,
      "outputs": []
    },
    {
      "cell_type": "code",
      "source": [
        "#calculate the sum of each row\n",
        "row_sums = np.sum(data, axis=1)\n",
        "print(\"Row Sums: \", row_sums)"
      ],
      "metadata": {
        "id": "ORJfBuSrB747"
      },
      "execution_count": null,
      "outputs": []
    },
    {
      "cell_type": "code",
      "source": [
        "#calculating the dot product of two columns\n",
        "dot_product = np.dot(data[:, 0], data[:, 1])\n",
        "print(\"Dot Product of Columns 1 and 2: \", dot_product)"
      ],
      "metadata": {
        "id": "iq0e7qkhCJpU"
      },
      "execution_count": null,
      "outputs": []
    },
    {
      "cell_type": "code",
      "source": [
        "#calculating the index of the minimum values of the array\n",
        "min_index = np.argmin(data, axis=0)\n",
        "print(\"Index :\", min_index)\n"
      ],
      "metadata": {
        "id": "U432bhlwElF8"
      },
      "execution_count": null,
      "outputs": []
    },
    {
      "cell_type": "code",
      "source": [
        "#calculating the index of the maximum values of the array\n",
        "max_index = np.argmax(data, axis=0)\n",
        "print(\"Index :\", max_index)"
      ],
      "metadata": {
        "id": "6ixqYdp5FhJh"
      },
      "execution_count": null,
      "outputs": []
    },
    {
      "cell_type": "code",
      "source": [
        "#trasnposing the arrays of the dataset\n",
        "transpose = np.transpose(data)\n",
        "print(\"Transposed Array :\", transpose)\n",
        "\n",
        "#the shape changes too as we have taken the transpose\n",
        "print(\"The new shape is:\",transpose.shape)"
      ],
      "metadata": {
        "id": "qeAYi4tIGktT"
      },
      "execution_count": null,
      "outputs": []
    }
  ]
}